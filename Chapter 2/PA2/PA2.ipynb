{
 "cells": [
  {
   "cell_type": "markdown",
   "metadata": {},
   "source": [
    "## CMP 145 - Johang Hernandez\n",
    "### September 13, 2024\n",
    "Returns an aproximation of pi, printing 50 steps."
   ]
  },
  {
   "cell_type": "code",
   "execution_count": 63,
   "metadata": {},
   "outputs": [],
   "source": [
    "import math\n",
    "\n",
    "def myPi(n):\n",
    "    \"\"\"\n",
    "    Returns an aproximation of pi. The higher n is, the more accurate it should be.\n",
    "\n",
    "    parameters\n",
    "    -------------\n",
    "    n: int\n",
    "        The number of terms to include in the summation\n",
    "    \"\"\"\n",
    "    acc = 0\n",
    "    for i in range(0,n+1):\n",
    "        den = (1+2*i) * (3**i)\n",
    "        frac = 1 / (den * ((-1)**i))\n",
    "        acc += frac\n",
    "\n",
    "    return math.sqrt(12) * (acc)"
   ]
  },
  {
   "cell_type": "code",
   "execution_count": 69,
   "metadata": {},
   "outputs": [
    {
     "name": "stdout",
     "output_type": "stream",
     "text": [
      "3.0792014356780038\n",
      "3.156181471569954\n",
      "3.1378528915956805\n",
      "3.1426047456630846\n",
      "3.141308785462883\n",
      "3.1416743126988376\n",
      "3.141568715941784\n",
      "3.141599773811506\n",
      "3.1415905109380797\n",
      "3.1415933045030813\n",
      "3.1415924542876463\n",
      "3.14159271502038\n",
      "3.141592634547314\n",
      "3.141592659521714\n",
      "3.1415926517339976\n",
      "3.1415926541725754\n",
      "3.141592653406165\n",
      "3.1415926536478262\n",
      "3.1415926535714034\n",
      "3.141592653595635\n",
      "3.1415926535879337\n",
      "3.1415926535903864\n",
      "3.1415926535896035\n",
      "3.141592653589854\n",
      "3.141592653589774\n",
      "3.1415926535897998\n",
      "3.1415926535897913\n",
      "3.141592653589794\n",
      "3.1415926535897936\n",
      "3.141592653589794\n",
      "3.141592653589794\n",
      "3.141592653589794\n",
      "3.141592653589794\n",
      "3.141592653589794\n",
      "3.141592653589794\n",
      "3.141592653589794\n",
      "3.141592653589794\n",
      "3.141592653589794\n",
      "3.141592653589794\n",
      "3.141592653589794\n",
      "3.141592653589794\n",
      "3.141592653589794\n",
      "3.141592653589794\n",
      "3.141592653589794\n",
      "3.141592653589794\n",
      "3.141592653589794\n",
      "3.141592653589794\n",
      "3.141592653589794\n",
      "3.141592653589794\n",
      "3.141592653589794\n"
     ]
    }
   ],
   "source": [
    "for i in range(1,51):\n",
    "    print(myPi(i))"
   ]
  }
 ],
 "metadata": {
  "kernelspec": {
   "display_name": "Python 3",
   "language": "python",
   "name": "python3"
  },
  "language_info": {
   "codemirror_mode": {
    "name": "ipython",
    "version": 3
   },
   "file_extension": ".py",
   "mimetype": "text/x-python",
   "name": "python",
   "nbconvert_exporter": "python",
   "pygments_lexer": "ipython3",
   "version": "3.10.12"
  }
 },
 "nbformat": 4,
 "nbformat_minor": 2
}
