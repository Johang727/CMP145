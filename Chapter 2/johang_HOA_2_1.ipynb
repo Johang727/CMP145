{
  "cells": [
    {
      "cell_type": "markdown",
      "metadata": {
        "id": "nspJ4Wb-YOcz"
      },
      "source": [
        "# HOA 2.1\n",
        "\n",
        "### Johang Hernandez\n",
        "\n",
        "These exercises are based on sections 2.1 through 2.4.2 of your text. We will explore the `random` module with Python's built-in help facility, and then experiment with the `archimedes()` function from Listing 2.2.\n",
        "\n",
        "---\n",
        "\n"
      ]
    },
    {
      "cell_type": "markdown",
      "metadata": {
        "id": "xSKLBS5q2POp"
      },
      "source": [
        "## 1 Help!\n",
        "\n",
        "First, we will practice using the help facility."
      ]
    },
    {
      "cell_type": "markdown",
      "metadata": {
        "id": "6p6RmmcBVOCN"
      },
      "source": [
        "### 1.1 What is Random?\n",
        "\n",
        "In the cells below, explore the `random` module using the `help()` function, and answer these two questions.\n",
        "\n",
        "* What does the `randrange()` function do? \n",
        "* What does the `randint()` function do? "
      ]
    },
    {
      "cell_type": "code",
      "execution_count": 4,
      "metadata": {
        "id": "sMwDwC4EVIEh"
      },
      "outputs": [
        {
          "name": "stdout",
          "output_type": "stream",
          "text": [
            "Help on method randrange in random:\n",
            "\n",
            "random.randrange = randrange(start, stop=None, step=1) method of random.Random instance\n",
            "    Choose a random item from range(start, stop[, step]).\n",
            "    \n",
            "    This fixes the problem with randint() which includes the\n",
            "    endpoint; in Python this is usually not what you want.\n",
            "\n"
          ]
        }
      ],
      "source": [
        "# use help() to find out what randrange() does\n",
        "help('random.randrange')"
      ]
    },
    {
      "cell_type": "code",
      "execution_count": 5,
      "metadata": {
        "id": "MCvVa2NW4W9C"
      },
      "outputs": [
        {
          "name": "stdout",
          "output_type": "stream",
          "text": [
            "Help on method randint in random:\n",
            "\n",
            "random.randint = randint(a, b) method of random.Random instance\n",
            "    Return random integer in range [a, b], including both end points.\n",
            "\n"
          ]
        }
      ],
      "source": [
        "# use help() to find out what randint() does\n",
        "help('random.randint')"
      ]
    },
    {
      "cell_type": "markdown",
      "metadata": {
        "id": "Dl8ujv9o2sah"
      },
      "source": [
        "## 2 Approximating 𝛑, Part One\n",
        "\n",
        "In the cells below, you will experiment with, and modify, the `archimedes()` function from Listing 2.2 of the text. Remember the goal: we are trying to find a way to produce an approximation of the constant 𝛑. "
      ]
    },
    {
      "cell_type": "markdown",
      "metadata": {
        "id": "axP7BZk2WVjF"
      },
      "source": [
        "### 2.1 First, Review Listing 2.2\n",
        "\n",
        "The following cells define the `archimedes()` function from Listing 2.2 of the text, and test it as shown in Session 2.4. Execute each of the cells.\n",
        "\n",
        "Note how we document the return value of the function in the docstring. "
      ]
    },
    {
      "cell_type": "code",
      "execution_count": 6,
      "metadata": {
        "id": "cTVdwtRCWeaf"
      },
      "outputs": [],
      "source": [
        "import math\n",
        "\n",
        "def archimedes(numSides):\n",
        "  \"\"\"\n",
        "  Produce an approximation of 𝛑, using the Archimedes approach.\n",
        "\n",
        "  parameters\n",
        "  ----------\n",
        "  numSides : int\n",
        "    Number of sides in the inscribed polygon \n",
        "\n",
        "  returns\n",
        "  -------\n",
        "    Approximation of 𝛑, as a float.\n",
        "  \"\"\"\n",
        "  innerAngleB = 360.0 / numSides\n",
        "  halfAngleA = innerAngleB / 2\n",
        "  oneHalfSideS = math.sin(math.radians(halfAngleA))\n",
        "  sideS = oneHalfSideS * 2\n",
        "  polygonCircumference = numSides * sideS\n",
        "  pi = polygonCircumference / 2\n",
        "  return pi"
      ]
    },
    {
      "cell_type": "code",
      "execution_count": 7,
      "metadata": {
        "id": "mytxivqHW7Hq"
      },
      "outputs": [
        {
          "data": {
            "text/plain": [
              "<function __main__.archimedes(numSides)>"
            ]
          },
          "execution_count": 7,
          "metadata": {},
          "output_type": "execute_result"
        }
      ],
      "source": [
        "archimedes"
      ]
    },
    {
      "cell_type": "code",
      "execution_count": 8,
      "metadata": {
        "id": "nfBW93nWXD1W"
      },
      "outputs": [
        {
          "data": {
            "text/plain": [
              "3.0614674589207183"
            ]
          },
          "execution_count": 8,
          "metadata": {},
          "output_type": "execute_result"
        }
      ],
      "source": [
        "archimedes(8)"
      ]
    },
    {
      "cell_type": "code",
      "execution_count": 9,
      "metadata": {
        "id": "ygXhXWDWXF1w"
      },
      "outputs": [
        {
          "data": {
            "text/plain": [
              "3.121445152258052"
            ]
          },
          "execution_count": 9,
          "metadata": {},
          "output_type": "execute_result"
        }
      ],
      "source": [
        "archimedes(16)"
      ]
    },
    {
      "cell_type": "code",
      "execution_count": 10,
      "metadata": {
        "id": "Pgpoo4cNXHJG"
      },
      "outputs": [
        {
          "data": {
            "text/plain": [
              "3.141075907812829"
            ]
          },
          "execution_count": 10,
          "metadata": {},
          "output_type": "execute_result"
        }
      ],
      "source": [
        "archimedes(100)"
      ]
    },
    {
      "cell_type": "code",
      "execution_count": 11,
      "metadata": {
        "id": "evakMrI5XIcj"
      },
      "outputs": [
        {
          "name": "stdout",
          "output_type": "stream",
          "text": [
            "8 3.0614674589207183\n",
            "16 3.121445152258052\n",
            "24 3.1326286132812378\n",
            "32 3.1365484905459393\n",
            "40 3.1383638291137976\n",
            "48 3.1393502030468667\n",
            "56 3.13994504528274\n",
            "64 3.140331156954753\n",
            "72 3.140595890304192\n",
            "80 3.140785260725489\n",
            "88 3.14092537783028\n",
            "96 3.1410319508905093\n"
          ]
        }
      ],
      "source": [
        "for sides in range(8, 100, 8):\n",
        "  print(sides, archimedes(sides))"
      ]
    },
    {
      "cell_type": "markdown",
      "metadata": {
        "id": "Nj8U9_LTXRZX"
      },
      "source": [
        "### 2.2 How Close Are We?\n",
        "\n",
        "Now, copy and paste the loop code from the cell above into the cell below. Modify the loop to print the difference between the values calculated by the `archimedes()` function and the constant `math.pi`. Then, modify the loop range to use a high enough maximum number of sides to that the difference is less than 0.0001."
      ]
    },
    {
      "cell_type": "code",
      "execution_count": 20,
      "metadata": {
        "id": "G74ymNCPXOCv"
      },
      "outputs": [
        {
          "name": "stdout",
          "output_type": "stream",
          "text": [
            "8 0.08012519466907486\n",
            "16 0.020147501331741147\n",
            "24 0.008964040308555354\n",
            "32 0.0050441630438538\n",
            "40 0.0032288244759954843\n",
            "48 0.0022424505429263775\n",
            "56 0.0016476083070529057\n",
            "64 0.0012614966350401602\n",
            "72 0.0009967632856011654\n",
            "80 0.0008073928643042017\n",
            "88 0.0006672757595129752\n",
            "96 0.000560702699283766\n",
            "104 0.00047776229735285725\n",
            "112 0.000411950692469798\n",
            "120 0.0003588566450147823\n",
            "128 0.0003154026570202362\n",
            "136 0.00027938878164412984\n",
            "144 0.00024920861299193575\n",
            "152 0.0002236670015394182\n",
            "160 0.00020185988926524345\n",
            "168 0.000183093198212525\n",
            "176 0.00016682691288627538\n",
            "184 0.00015263579444546593\n",
            "192 0.00014018130433157694\n",
            "200 0.00012919122565824281\n",
            "208 0.00011944466152247202\n",
            "216 0.00011076084793959495\n",
            "224 0.00010299071181263386\n",
            "232 9.601043030205147e-05\n"
          ]
        }
      ],
      "source": [
        "# paste the loop here, then modify as instructed\n",
        "for sides in range(8, 240, 8):\n",
        "  est = archimedes(sides)\n",
        "  print(sides,math.pi - est)\n"
      ]
    },
    {
      "cell_type": "markdown",
      "metadata": {
        "id": "BElRzTczpyCg"
      },
      "source": [
        "### 2.3 Is Bigger Better?\n",
        "\n",
        "Now, copy and paste the `archimedes()` function into the code cell below. Modify the function to take a second parameter, `radius`, and use that value instead of 1 in its computation. Test the function using a for loop similar to the one above. Do we get better approximations more quickly using a circle with radius larger than one?"
      ]
    },
    {
      "cell_type": "code",
      "execution_count": 28,
      "metadata": {
        "id": "wA6j-X31qN9f"
      },
      "outputs": [],
      "source": [
        "# paste the archimedes() function here, then modify as instructed\n",
        "\n",
        "def archimedes(numSides, radius):\n",
        "  \"\"\"\n",
        "  Produce an approximation of 𝛑, using the Archimedes approach.\n",
        "\n",
        "  parameters\n",
        "  ----------\n",
        "  numSides : int\n",
        "    Number of sides in the inscribed polygon \n",
        "  radius : int\n",
        "    Radius of each angle in the inscriped polygon\n",
        "\n",
        "  returns\n",
        "  -------\n",
        "    Approximation of 𝛑, as a float.\n",
        "  \"\"\"\n",
        "  innerAngleB = 360.0 / numSides\n",
        "  halfAngleA = innerAngleB / 2\n",
        "  oneHalfSideS = math.sin(math.radians(halfAngleA))\n",
        "  sideS = oneHalfSideS * (2 * radius)\n",
        "  polygonCircumference = numSides * sideS\n",
        "  pi = polygonCircumference / (2 * radius)\n",
        "  return pi"
      ]
    },
    {
      "cell_type": "code",
      "execution_count": 34,
      "metadata": {
        "id": "fktJILsqrwmG"
      },
      "outputs": [
        {
          "name": "stdout",
          "output_type": "stream",
          "text": [
            "8 3.0614674589207183\n",
            "16 3.121445152258052\n",
            "24 3.1326286132812378\n",
            "32 3.1365484905459393\n",
            "40 3.1383638291137976\n",
            "48 3.1393502030468667\n",
            "56 3.13994504528274\n",
            "64 3.140331156954753\n",
            "72 3.140595890304192\n",
            "80 3.140785260725489\n",
            "88 3.14092537783028\n",
            "96 3.1410319508905093\n"
          ]
        }
      ],
      "source": [
        "# use a for loop like the one above to see if there is a difference\n",
        "\n",
        "for sides in range(8, 100, 8):\n",
        "  print(sides, archimedes(sides, 2))\n",
        "\n",
        "# No, it does not make a difference"
      ]
    }
  ],
  "metadata": {
    "colab": {
      "collapsed_sections": [],
      "name": "ist145 HOA 2.1.ipynb",
      "provenance": []
    },
    "kernelspec": {
      "display_name": "Python 3",
      "name": "python3"
    },
    "language_info": {
      "codemirror_mode": {
        "name": "ipython",
        "version": 3
      },
      "file_extension": ".py",
      "mimetype": "text/x-python",
      "name": "python",
      "nbconvert_exporter": "python",
      "pygments_lexer": "ipython3",
      "version": "3.10.12"
    }
  },
  "nbformat": 4,
  "nbformat_minor": 0
}
