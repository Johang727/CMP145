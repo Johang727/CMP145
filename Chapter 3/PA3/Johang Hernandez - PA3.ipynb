{
  "cells": [
    {
      "cell_type": "markdown",
      "metadata": {
        "id": "GDMRGYBtv8fC"
      },
      "source": [
        "# CMP 145 PA 3\n",
        "\n",
        "Name: `Johang Hernandez`\n",
        "\n",
        "Date: `09 - 25 - 2024`\n",
        "\n",
        "## Write the following functions\n",
        "\n",
        "Based on the information in the assignment and the comments below, complete the\n",
        "following functions.\n"
      ]
    },
    {
      "cell_type": "code",
      "execution_count": 27,
      "metadata": {
        "id": "dKjxgdjqmHOS"
      },
      "outputs": [],
      "source": [
        "# TODO: write this function\n",
        "def countOccurrences(myString, values):\n",
        "  '''\n",
        "  Count the number of occurrences of certain characters in a string.\n",
        "\n",
        "  parameters\n",
        "  ----------\n",
        "  myString : string\n",
        "    target string to count characters in\n",
        "  values : string\n",
        "    characters to look for in myString\n",
        "\n",
        "  returns\n",
        "  -------\n",
        "  The number of times characters from 'values' occur in 'myString'.\n",
        "  '''\n",
        "  dupeless = ''\n",
        "  for ch in values:\n",
        "    if ch not in dupeless:\n",
        "      dupeless += ch\n",
        "  acc = 0\n",
        "  for i in dupeless:\n",
        "    acc += myString.count(i)\n",
        "  return acc"
      ]
    },
    {
      "cell_type": "code",
      "execution_count": 28,
      "metadata": {
        "id": "srm6CskzpG68"
      },
      "outputs": [],
      "source": [
        "# TODO: write this function, including the docstring\n",
        "def countVowels(myString):\n",
        "  '''\n",
        "  Count the number of occurrences of vowels in a string.\n",
        "\n",
        "  parameters\n",
        "  ----------\n",
        "  myString : string\n",
        "    target string to count vowels in\n",
        "\n",
        "  returns\n",
        "  -------\n",
        "  The number of times vowels occur in 'myString'.\n",
        "  '''\n",
        "  vowels = 'aeiou'\n",
        "  myString = myString.lower()\n",
        "  return countOccurrences(myString, vowels)"
      ]
    },
    {
      "cell_type": "code",
      "execution_count": 29,
      "metadata": {
        "id": "7CQLTfJ1pTTC"
      },
      "outputs": [],
      "source": [
        "# TODO: write this function, including the docstring\n",
        "def countConsonants(myString):\n",
        "  '''\n",
        "  Count the number of occurrences of consonants in a string.\n",
        "\n",
        "  parameters\n",
        "  ----------\n",
        "  myString : string\n",
        "    target string to count consonants in\n",
        "\n",
        "  returns\n",
        "  -------\n",
        "  The number of times consonants occur in 'myString'.\n",
        "  '''\n",
        "  cons = 'bcdfghjklmnpqrstvwxyz'\n",
        "  myString = myString.lower()\n",
        "  return countOccurrences(myString, cons)\n"
      ]
    },
    {
      "cell_type": "code",
      "execution_count": 30,
      "metadata": {
        "id": "GNGNKnCtplvw"
      },
      "outputs": [],
      "source": [
        "# TODO: write this function, including the docstring\n",
        "def countDigits(myString):\n",
        "  '''\n",
        "  Count the number of occurrences of digits in a string.\n",
        "\n",
        "  parameters\n",
        "  ----------\n",
        "  myString : string\n",
        "    target string to count digits in\n",
        "\n",
        "  returns\n",
        "  -------\n",
        "  The number of times digits occur in 'myString'.\n",
        "  '''\n",
        "  digits = '1234567890'\n",
        "  myString = myString.lower()\n",
        "  return countOccurrences(myString, digits)"
      ]
    },
    {
      "cell_type": "code",
      "execution_count": 33,
      "metadata": {
        "id": "62cHUv4Npvg6"
      },
      "outputs": [],
      "source": [
        "# TODO: write this function\n",
        "def removeNonAlpha(myString):\n",
        "  '''\n",
        "  Remove all non-alphabetic characters from a string.\n",
        "\n",
        "  parameters\n",
        "  ----------\n",
        "  myString : string\n",
        "    String to remove non-alphabetic characters from\n",
        "\n",
        "  returns\n",
        "  -------\n",
        "  New string, the same as myString, but without any non-alphabetic\n",
        "  characters, regardless of case.\n",
        "  '''\n",
        "  from string import ascii_letters\n",
        "  goodStr = ''\n",
        "  for i in myString:\n",
        "    if i in ascii_letters:\n",
        "      goodStr += i\n",
        "  return goodStr"
      ]
    },
    {
      "cell_type": "markdown",
      "metadata": {
        "id": "-oTyyycTw9jF"
      },
      "source": [
        "---\n",
        "\n",
        "## Tests\n",
        "\n",
        "Once you have written the functions above, execute the cell below to test your\n",
        "code. If all 21 test cases pass, you can be confident that your code works as\n",
        "it should."
      ]
    },
    {
      "cell_type": "code",
      "execution_count": 34,
      "metadata": {
        "id": "X-fSZOYWqSyv"
      },
      "outputs": [
        {
          "name": "stdout",
          "output_type": "stream",
          "text": [
            "counting 'a' in ''; expected 0, got 0. YAY!\n",
            "counting 'a' in 'a'; expected 1, got 1. YAY!\n",
            "counting 'a' in 'aaa'; expected 3, got 3. YAY!\n",
            "counting 'b' in 'aaa'; expected 0, got 0. YAY!\n",
            "counting 'b' in 'aab'; expected 1, got 1. YAY!\n",
            "\n",
            "counting vowels in ''; expected 0, got 0. YAY!\n",
            "counting vowels in 'abcdeABCDE'; expected 4, got 4. YAY!\n",
            "counting vowels in 'bCdFgHjKlMn'; expected 0, got 0. YAY!\n",
            "counting vowels in 'bcdfghAEgi'; expected 3, got 3. YAY!\n",
            "\n",
            "counting consonants in ''; expected 0, got 0. YAY!\n",
            "counting consonants in 'abcdeABCDE'; expected 6, got 6. YAY!\n",
            "counting consonants in 'bCdFgHjKlMn'; expected 11, got 11. YAY!\n",
            "counting consonants in 'aEiOukK'; expected 2, got 2. YAY!\n",
            "\n",
            "counting digits in ''; expected 0, got 0. YAY!\n",
            "counting digits in 'abcdefg'; expected 0, got 0. YAY!\n",
            "counting digits in 'a1b2c3d4e5'; expected 5, got 5. YAY!\n",
            "counting digits in 'abcdefg1'; expected 1, got 1. YAY!\n",
            "\n",
            "removing non-alpha in ''; expected , got . YAY!\n",
            "removing non-alpha in 'abcdefg'; expected abcdefg, got abcdefg. YAY!\n",
            "removing non-alpha in 'a1b2c3d4e5'; expected abcde, got abcde. YAY!\n",
            "removing non-alpha in 'abcde111  f'; expected abcdef, got abcdef. YAY!\n",
            "\n",
            "ALL TESTS PASSED. AWESOME!\n"
          ]
        }
      ],
      "source": [
        "co_tests = [('', 'a', 0),\n",
        "            ('a', 'a', 1),\n",
        "            ('aaa', 'a', 3),\n",
        "            ('aaa', 'b', 0),\n",
        "            ('aab', 'b', 1)]\n",
        "\n",
        "numPassed = 0\n",
        "\n",
        "for t in co_tests:\n",
        "  exp = t[2]\n",
        "  got = countOccurrences(t[0], t[1])\n",
        "  msg = 'DANG'\n",
        "  if exp == got:\n",
        "    msg = 'YAY!'\n",
        "    numPassed += 1\n",
        "  print((\"counting '{0:s}' in '{1:s}'; \" +\n",
        "        \"expected {2:d}, got {3:d}. {4:s}\").format(t[1], t[0], t[2], got, msg))\n",
        "\n",
        "print()\n",
        "cv_tests = [('', 0),\n",
        "            ('abcdeABCDE', 4),\n",
        "            ('bCdFgHjKlMn', 0),\n",
        "            ('bcdfghAEgi', 3)]\n",
        "\n",
        "for t in cv_tests:\n",
        "  exp = t[1]\n",
        "  got = countVowels(t[0])\n",
        "  msg = 'DANG'\n",
        "  if exp == got:\n",
        "    msg = 'YAY!'\n",
        "    numPassed += 1\n",
        "  print((\"counting vowels in '{0:s}'; \" +\n",
        "        \"expected {1:d}, got {2:d}. {3:s}\").format(t[0], exp, got, msg))\n",
        "\n",
        "print()\n",
        "cc_tests = [('', 0),\n",
        "            ('abcdeABCDE', 6),\n",
        "            ('bCdFgHjKlMn', 11),\n",
        "            ('aEiOukK', 2)]\n",
        "\n",
        "for t in cc_tests:\n",
        "  exp = t[1]\n",
        "  got = countConsonants(t[0])\n",
        "  msg = 'DANG'\n",
        "  if exp == got:\n",
        "    msg = 'YAY!'\n",
        "    numPassed += 1\n",
        "  print((\"counting consonants in '{0:s}'; \" +\n",
        "        \"expected {1:d}, got {2:d}. {3:s}\").format(t[0], exp, got, msg))\n",
        "\n",
        "print()\n",
        "cd_tests = [('', 0),\n",
        "            ('abcdefg', 0),\n",
        "            ('a1b2c3d4e5', 5),\n",
        "            ('abcdefg1', 1)]\n",
        "\n",
        "for t in cd_tests:\n",
        "  exp = t[1]\n",
        "  got = countDigits(t[0])\n",
        "  msg = 'DANG'\n",
        "  if exp == got:\n",
        "    msg = 'YAY!'\n",
        "    numPassed += 1\n",
        "  print((\"counting digits in '{0:s}'; \" +\n",
        "        \"expected {1:d}, got {2:d}. {3:s}\").format(t[0], exp, got, msg))\n",
        "\n",
        "\n",
        "print()\n",
        "rd_tests = [('', ''),\n",
        "            ('abcdefg', 'abcdefg'),\n",
        "            ('a1b2c3d4e5', 'abcde'),\n",
        "            ('abcde111  f', 'abcdef')]\n",
        "\n",
        "for t in rd_tests:\n",
        "  exp = t[1]\n",
        "  got = removeNonAlpha(t[0])\n",
        "  msg = 'DANG'\n",
        "  if exp == got:\n",
        "    msg = 'YAY!'\n",
        "    numPassed += 1\n",
        "  print((\"removing non-alpha in '{0:s}'; \" +\n",
        "        \"expected {1:s}, got {2:s}. {3:s}\").format(t[0], exp, got, msg))\n",
        "\n",
        "if numPassed == 21:\n",
        "  print('\\nALL TESTS PASSED. AWESOME!')\n",
        "else:\n",
        "  print('\\nSOME TESTS FAILED. REVISE AND TRY AGAIN.')"
      ]
    }
  ],
  "metadata": {
    "colab": {
      "provenance": []
    },
    "kernelspec": {
      "display_name": "Python 3",
      "name": "python3"
    },
    "language_info": {
      "codemirror_mode": {
        "name": "ipython",
        "version": 3
      },
      "file_extension": ".py",
      "mimetype": "text/x-python",
      "name": "python",
      "nbconvert_exporter": "python",
      "pygments_lexer": "ipython3",
      "version": "3.10.12"
    }
  },
  "nbformat": 4,
  "nbformat_minor": 0
}
