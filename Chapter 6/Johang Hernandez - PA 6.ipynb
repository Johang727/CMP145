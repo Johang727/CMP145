{
 "cells": [
  {
   "cell_type": "code",
   "execution_count": 1,
   "metadata": {},
   "outputs": [],
   "source": [
    "# modules needed to use Scikit-learn image processing in Colab\n",
    "import skimage.io\n",
    "from matplotlib import pyplot as plt\n",
    "import numpy as np\n",
    "\n",
    "def makePixel(r, g, b):\n",
    "  \"\"\"\n",
    "  Make a RGB pixel suitable for a Scikit-learn image.\n",
    "\n",
    "  parameters\n",
    "  ----------\n",
    "  r : int\n",
    "    red intensity, in [0, 255]\n",
    "  g : int\n",
    "    green intensity, in [0, 255]\n",
    "  b : int\n",
    "    blue intensity, in [0, 255]\n",
    "\n",
    "  returns\n",
    "  -------\n",
    "    A pixel with the specified color. \n",
    "  \"\"\"\n",
    "\n",
    "  pixel = np.ndarray((3,), dtype='uint8')  \n",
    "  pixel[0] = np.uint8(r)\n",
    "  pixel[1] = np.uint8(g)\n",
    "  pixel[2] = np.uint8(b)\n",
    "\n",
    "  return pixel\n",
    "\n",
    "def makeBlackImage(shape):\n",
    "  \"\"\"\n",
    "  Make and return a black RGB image of the specified shape.\n",
    "\n",
    "  parameters\n",
    "  ----------\n",
    "  shape : tuple\n",
    "    shape of the image (rows, cols, channels)\n",
    "\n",
    "  returns\n",
    "  -------\n",
    "    A black Scikit-learn image of the specified size.\n",
    "  \"\"\"\n",
    "  newImg = np.zeros(shape, dtype='uint8')\n",
    "\n",
    "  return newImg"
   ]
  },
  {
   "cell_type": "code",
   "execution_count": null,
   "metadata": {},
   "outputs": [],
   "source": [
    "def chromaKey(foreground, background):\n",
    "    R = 0\n",
    "    G = 0\n",
    "    B = 0\n",
    "    newIMG = makeBlackImage(foreground.shape[0], foreground.shape[1], 3)\n",
    "    for row in range(foreground.shape[0]):\n",
    "        for col in range(foreground.shape[1]):\n",
    "            if foreground[row][col][0] <= R and foreground[row][col][1] >= G and foreground[row][col][0] <= B:\n",
    "                # Green Enough\n",
    "                newIMG = background[row][col]\n",
    "            else:\n",
    "                #not green enough\n",
    "                newIMG = foreground[row][col]"
   ]
  }
 ],
 "metadata": {
  "kernelspec": {
   "display_name": "base",
   "language": "python",
   "name": "python3"
  },
  "language_info": {
   "codemirror_mode": {
    "name": "ipython",
    "version": 3
   },
   "file_extension": ".py",
   "mimetype": "text/x-python",
   "name": "python",
   "nbconvert_exporter": "python",
   "pygments_lexer": "ipython3",
   "version": "3.12.4"
  }
 },
 "nbformat": 4,
 "nbformat_minor": 2
}
