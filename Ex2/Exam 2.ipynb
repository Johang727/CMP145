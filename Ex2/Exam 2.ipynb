{
 "cells": [
  {
   "cell_type": "code",
   "execution_count": 1,
   "metadata": {},
   "outputs": [
    {
     "name": "stdout",
     "output_type": "stream",
     "text": [
      "7\n"
     ]
    }
   ],
   "source": [
    "with open('grades.txt','r') as tatertots:\n",
    "    count = 0\n",
    "    for i in tatertots:\n",
    "        if int(i) >= 90:\n",
    "            count += 1\n",
    "    print(count)"
   ]
  },
  {
   "cell_type": "code",
   "execution_count": 29,
   "metadata": {},
   "outputs": [
    {
     "name": "stdout",
     "output_type": "stream",
     "text": [
      "['Lat']\n"
     ]
    }
   ],
   "source": [
    "folks = {'Lat':20,'Rey':49,'Lon':30}\n",
    "illinois = [20,21,22]\n",
    "IL = []\n",
    "\n",
    "for i in folks:\n",
    "    if folks[i] in illinois:\n",
    "        IL.append(i)\n",
    "\n",
    "print(IL)"
   ]
  }
 ],
 "metadata": {
  "kernelspec": {
   "display_name": "Python 3",
   "language": "python",
   "name": "python3"
  },
  "language_info": {
   "codemirror_mode": {
    "name": "ipython",
    "version": 3
   },
   "file_extension": ".py",
   "mimetype": "text/x-python",
   "name": "python",
   "nbconvert_exporter": "python",
   "pygments_lexer": "ipython3",
   "version": "3.10.12"
  }
 },
 "nbformat": 4,
 "nbformat_minor": 2
}
