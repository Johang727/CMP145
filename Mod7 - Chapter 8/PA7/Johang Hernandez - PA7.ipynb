{
 "cells": [
  {
   "cell_type": "code",
   "execution_count": 1,
   "metadata": {},
   "outputs": [
    {
     "name": "stdout",
     "output_type": "stream",
     "text": [
      "  % Total    % Received % Xferd  Average Speed   Time    Time     Time  Current\n",
      "                                 Dload  Upload   Total   Spent    Left  Speed\n",
      "100  351k  100  351k    0     0   263k      0  0:00:01  0:00:01 --:--:--  263k\n"
     ]
    }
   ],
   "source": [
    "!curl 'https://raw.githubusercontent.com/mmeysenburg/ist145code/main/module07/wells.txt' > wells.txt"
   ]
  },
  {
   "cell_type": "code",
   "execution_count": null,
   "metadata": {},
   "outputs": [],
   "source": [
    "def removeNonAlpha(myString):\n",
    "    '''\n",
    "    \n",
    "    '''\n",
    "    from string import punctuation\n",
    "    from string import ascii_uppercase\n",
    "    bad = punctuation + ascii_uppercase + \"1234567890\"\n",
    "    new = ''\n",
    "\n",
    "    for i in myString:\n",
    "        if i not in bad:\n",
    "            new += i\n",
    "    return new"
   ]
  },
  {
   "cell_type": "code",
   "execution_count": 17,
   "metadata": {},
   "outputs": [],
   "source": [
    "def getFreq(t):\n",
    "    return t[1]"
   ]
  },
  {
   "cell_type": "code",
   "execution_count": 27,
   "metadata": {},
   "outputs": [
    {
     "name": "stdout",
     "output_type": "stream",
     "text": [
      "('the', 4978)\n",
      "('and', 2550)\n",
      "('of', 2431)\n",
      "('a', 1659)\n",
      "('to', 1252)\n",
      "('i', 1234)\n",
      "('in', 1056)\n",
      "('was', 852)\n",
      "('that', 775)\n",
      "('it', 643)\n"
     ]
    }
   ],
   "source": [
    "count = {}\n",
    "count_list = []\n",
    "with open('wells.txt', 'r') as wells:\n",
    "    for line in wells:\n",
    "        line_list = removeNonAlpha(line.lower()).split()\n",
    "        for word in line_list:\n",
    "            count[word] = count.get(word, 0) + 1\n",
    "    for item in count.items():\n",
    "        count_list.append(item)\n",
    "    count_list.sort(key = getFreq, reverse = True)\n",
    "    for i in range(10):\n",
    "        print(count_list[i])"
   ]
  }
 ],
 "metadata": {
  "kernelspec": {
   "display_name": "base",
   "language": "python",
   "name": "python3"
  },
  "language_info": {
   "codemirror_mode": {
    "name": "ipython",
    "version": 3
   },
   "file_extension": ".py",
   "mimetype": "text/x-python",
   "name": "python",
   "nbconvert_exporter": "python",
   "pygments_lexer": "ipython3",
   "version": "3.12.4"
  }
 },
 "nbformat": 4,
 "nbformat_minor": 2
}
