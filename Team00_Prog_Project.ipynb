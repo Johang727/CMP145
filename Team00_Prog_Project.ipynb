{
  "nbformat": 4,
  "nbformat_minor": 0,
  "metadata": {
    "colab": {
      "provenance": [],
      "toc_visible": true,
      "include_colab_link": true
    },
    "kernelspec": {
      "name": "python3",
      "display_name": "Python 3"
    },
    "language_info": {
      "name": "python"
    }
  },
  "cells": [
    {
      "cell_type": "markdown",
      "metadata": {
        "id": "view-in-github",
        "colab_type": "text"
      },
      "source": [
        "<a href=\"https://colab.research.google.com/github/Johang727/CMP145/blob/main/Team00_Prog_Project.ipynb\" target=\"_parent\"><img src=\"https://colab.research.google.com/assets/colab-badge.svg\" alt=\"Open In Colab\"/></a>"
      ]
    },
    {
      "cell_type": "markdown",
      "source": [
        "# CMP 145 Semester Project"
      ],
      "metadata": {
        "id": "fZb8ovA5gseA"
      }
    },
    {
      "cell_type": "code",
      "execution_count": null,
      "metadata": {
        "colab": {
          "base_uri": "https://localhost:8080/"
        },
        "id": "cnPr8GOSenqd",
        "outputId": "d369bb33-c05d-4885-e901-05a888c1f5ee"
      },
      "outputs": [
        {
          "output_type": "stream",
          "name": "stdout",
          "text": [
            "--2024-11-22 20:08:21--  http://programminginprocessing.com/card.raw\n",
            "Resolving programminginprocessing.com (programminginprocessing.com)... 107.180.25.155\n",
            "Connecting to programminginprocessing.com (programminginprocessing.com)|107.180.25.155|:80... connected.\n",
            "HTTP request sent, awaiting response... 200 OK\n",
            "Length: 2910974 (2.8M)\n",
            "Saving to: ‘card.raw’\n",
            "\n",
            "card.raw            100%[===================>]   2.78M  --.-KB/s    in 0.1s    \n",
            "\n",
            "2024-11-22 20:08:21 (21.6 MB/s) - ‘card.raw’ saved [2910974/2910974]\n",
            "\n"
          ]
        }
      ],
      "source": [
        "!wget 'http://programminginprocessing.com/card.raw' -O card.raw #imports the file in order to read the data from the camera"
      ]
    },
    {
      "cell_type": "code",
      "source": [
        "with open(filename, 'rb') as cardFile:\n",
        "\n",
        "   byte = file.read(8)"
      ],
      "metadata": {
        "id": "cL-W8P3Kf6FB"
      },
      "execution_count": null,
      "outputs": []
    }
  ]
}