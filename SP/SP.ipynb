{
 "cells": [
  {
   "cell_type": "code",
   "execution_count": 3,
   "metadata": {},
   "outputs": [
    {
     "name": "stdout",
     "output_type": "stream",
     "text": [
      "--2024-11-20 14:44:57--  http://programminginprocessing.com/card.raw\n",
      "Resolving programminginprocessing.com (programminginprocessing.com)... 107.180.25.155\n",
      "Connecting to programminginprocessing.com (programminginprocessing.com)|107.180.25.155|:80... connected.\n",
      "HTTP request sent, awaiting response... 200 OK\n",
      "Length: 2910974 (2,8M)\n",
      "Saving to: ‘card.raw’\n",
      "\n",
      "card.raw            100%[===================>]   2,78M  4,89MB/s    in 0,6s    \n",
      "\n",
      "2024-11-20 14:44:58 (4,89 MB/s) - ‘card.raw’ saved [2910974/2910974]\n",
      "\n"
     ]
    }
   ],
   "source": [
    "# Johang Hernandez\n",
    "\n",
    "!wget 'http://programminginprocessing.com/card.raw' -O card.raw\n"
   ]
  },
  {
   "cell_type": "code",
   "execution_count": null,
   "metadata": {},
   "outputs": [
    {
     "name": "stdout",
     "output_type": "stream",
     "text": [
      "[b'\\x00\\x00\\x00\\x00\\xff\\xd8\\xff\\xe0\\x00\\x10JFIF\\x00\\x01\\x01\\x01\\x00H\\x00H\\x00\\x00\\xff\\xe1\\x10\\xd2Exif\\x00\\x00MM\\x00*\\x00\\x00\\x00\\x08\\x00\\r\\x01\\x00\\x00\\x03\\x00\\x00\\x00\\x01\\x0f\\xc0\\x00\\x00\\x01\\x01\\x00\\x03\\x00\\x00\\x00\\x01\\x07t\\x00\\x00\\x01\\x0f\\x00\\x02\\x00\\x00\\x00\\x08\\x00\\x00\\x00\\xaa\\x01\\x10\\x00\\x02\\x00\\x00\\x00\\t\\x00\\x00\\x00\\xb2\\x01\\x12\\x00\\x03\\x00\\x00\\x00\\x01\\x00\\x01\\x00\\x00\\x01\\x1a\\x00\\x05\\x00\\x00\\x00\\x01\\x00\\x00\\x00\\xbc\\x01\\x1b\\x00\\x05\\x00\\x00\\x00\\x01\\x00\\x00\\x00\\xc4\\x01(\\x00\\x03\\x00\\x00\\x00\\x01\\x00\\x02\\x00\\x00\\x011\\x00\\x02\\x00\\x00\\x00\\x0e\\x00\\x00\\x00\\xcc\\x012\\x00\\x02\\x00\\x00\\x00\\x14\\x00\\x00\\x00\\xda\\x02\\x13\\x00\\x03\\x00\\x00\\x00\\x01\\x00\\x01\\x00\\x00\\x87i\\x00\\x04\\x00\\x00\\x00\\x01\\x00\\x00\\x00\\xee\\x88%\\x00\\x04\\x00\\x00\\x00\\x01\\x00\\x00\\x02\\xfe\\x00\\x00\\x03\\xd6samsung\\x00SM-G975U\\x00\\x00\\x00\\x00\\x00H\\x00\\x00\\x00\\x01\\x00\\x00\\x00H\\x00\\x00\\x00\\x01G975USQS6GUJ2\\x002021:11:02 07:40:52\\x00\\x00\\x1e\\x82\\x9a\\x00\\x05\\x00\\x00\\x00\\x01\\x00\\x00\\x02\\\\\\x82\\x9d\\x00\\x05\\x00\\x00\\x00\\x01\\x00\\x00\\x02d\\x88\"\\x00\\x03\\x00\\x00\\x00\\x01\\x00\\x02\\x00\\x00\\x88\\'\\x00\\x03\\x00\\x00\\x00\\x01\\x01\\x90\\x00\\x00\\x90\\x00\\x00\\x07\\x00\\x00\\x00\\x040220\\x90\\x03\\x00\\x02\\x00\\x00\\x00\\x14\\x00\\x00\\x02l\\x90\\x04\\x00\\x02\\x00\\x00\\x00\\x14\\x00\\x00\\x02\\x80\\x91\\x01\\x00\\x07\\x00\\x00\\x00\\x04\\x01\\x02\\x03\\x00\\x92\\x01\\x00\\n']\n"
     ]
    }
   ],
   "source": [
    "with open(\"card.raw\", \"rb\") as card:\n",
    "    print(card.readlines(1))"
   ]
  }
 ],
 "metadata": {
  "kernelspec": {
   "display_name": "base",
   "language": "python",
   "name": "python3"
  },
  "language_info": {
   "codemirror_mode": {
    "name": "ipython",
    "version": 3
   },
   "file_extension": ".py",
   "mimetype": "text/x-python",
   "name": "python",
   "nbconvert_exporter": "python",
   "pygments_lexer": "ipython3",
   "version": "3.12.4"
  }
 },
 "nbformat": 4,
 "nbformat_minor": 2
}
