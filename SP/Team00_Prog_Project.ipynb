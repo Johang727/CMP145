{
 "cells": [
  {
   "cell_type": "markdown",
   "metadata": {
    "colab_type": "text",
    "id": "view-in-github"
   },
   "source": [
    "<a href=\"https://colab.research.google.com/github/Johang727/CMP145/blob/main/Team00_Prog_Project.ipynb\" target=\"_parent\"><img src=\"https://colab.research.google.com/assets/colab-badge.svg\" alt=\"Open In Colab\"/></a>"
   ]
  },
  {
   "cell_type": "markdown",
   "metadata": {
    "id": "fZb8ovA5gseA"
   },
   "source": [
    "# CMP 145 Semester Project"
   ]
  },
  {
   "cell_type": "code",
   "execution_count": null,
   "metadata": {
    "colab": {
     "base_uri": "https://localhost:8080/"
    },
    "id": "cnPr8GOSenqd",
    "outputId": "d369bb33-c05d-4885-e901-05a888c1f5ee"
   },
   "outputs": [],
   "source": [
    "!wget 'http://programminginprocessing.com/card.raw' -O card.raw #imports the file in order to read the data from the camera\n",
    "# !wget 'https://raw.githubusercontent.com/Johang727/CMP145/refs/heads/main/Chapter%206/butterfly.jpg' -O butterfly.jpg"
   ]
  },
  {
   "cell_type": "code",
   "execution_count": null,
   "metadata": {
    "id": "cL-W8P3Kf6FB"
   },
   "outputs": [],
   "source": [
    "with open('card.raw', 'rb') as cardFile: # Chance\n",
    "  photoBytes = cardFile.read() # Chance\n",
    "  photoList = list(photoBytes) # TJ\n",
    "\n",
    "\n",
    "  # print(photoList) # TJ & Johang\n",
    "  # print(photoBytes) #~ Testing - Johang\n",
    "  # bytearray(photoBytes) ~ Testing - Johang\n",
    "  # print(type(photoBytes)) ~ Testing - Johang\n",
    "\n",
    "  \"\"\" Johang\n",
    "   Start of Image:\n",
    "\n",
    "   FF D8 FF E0\n",
    "   255 216 255 224\n",
    "\n",
    "   FF D8 FF E1\n",
    "   255 216 255 225\n",
    "\n",
    "   End of Image:\n",
    "\n",
    "   FF D9\n",
    "   255 217\n",
    "  \"\"\"\n",
    "\n",
    "  \"\"\" I don't think we need this.\n",
    "  newDict = {}\n",
    "  for i in range (4,len(photoList)+10, 4): # Chance Combines the 4 bytes\n",
    "    newDict[i] = photoList[i-4:i]\n",
    "    \n",
    "  print(newDict)\n",
    "  \"\"\"\n",
    "\n",
    "  startOfImages = []\n",
    "  # TJ & Johang\n",
    "  for i in range(len(photoList)-4): # TJ & Johang\n",
    "    if photoList[i] == 255 and photoList[i+1] == 216 and photoList[i+2] == 255 and (photoList[i+3] == 224 or photoList[i+3] == 225): # Johang\n",
    "      startOfImages.append(i) # Johang\n",
    "\n",
    "#print(startOfImages)\n",
    "#print(len(startOfImages))"
   ]
  },
  {
   "cell_type": "code",
   "execution_count": null,
   "metadata": {},
   "outputs": [],
   "source": [
    "# exporting all the images - TJ & Johang\n",
    "\n",
    "for i in range(len(startOfImages)): # TJ \n",
    "    with open(f'out{i}.jpg', 'wb') as image: # TJ & Johang\n",
    "        if i == len(startOfImages)-1: # TJ\n",
    "            image.write(photoBytes[startOfImages[i]:]) # Johang\n",
    "        else:\n",
    "            image.write(photoBytes[startOfImages[i]:startOfImages[i+1]]) # Johang"
   ]
  }
 ],
 "metadata": {
  "colab": {
   "include_colab_link": true,
   "provenance": [],
   "toc_visible": true
  },
  "kernelspec": {
   "display_name": "Python 3",
   "language": "python",
   "name": "python3"
  },
  "language_info": {
   "codemirror_mode": {
    "name": "ipython",
    "version": 3
   },
   "file_extension": ".py",
   "mimetype": "text/x-python",
   "name": "python",
   "nbconvert_exporter": "python",
   "pygments_lexer": "ipython3",
   "version": "3.11.9"
  }
 },
 "nbformat": 4,
 "nbformat_minor": 0
}
