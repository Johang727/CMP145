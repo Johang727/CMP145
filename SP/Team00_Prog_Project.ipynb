{
 "cells": [
  {
   "cell_type": "markdown",
   "metadata": {
    "colab_type": "text",
    "id": "view-in-github"
   },
   "source": [
    "<a href=\"https://colab.research.google.com/github/Johang727/CMP145/blob/main/Team00_Prog_Project.ipynb\" target=\"_parent\"><img src=\"https://colab.research.google.com/assets/colab-badge.svg\" alt=\"Open In Colab\"/></a>"
   ]
  },
  {
   "cell_type": "markdown",
   "metadata": {
    "id": "fZb8ovA5gseA"
   },
   "source": [
    "# CMP 145 Semester Project"
   ]
  },
  {
   "cell_type": "code",
   "execution_count": null,
   "metadata": {
    "colab": {
     "base_uri": "https://localhost:8080/"
    },
    "id": "cnPr8GOSenqd",
    "outputId": "d369bb33-c05d-4885-e901-05a888c1f5ee"
   },
   "outputs": [
    {
     "name": "stdout",
     "output_type": "stream",
     "text": [
      "--2024-11-22 20:08:21--  http://programminginprocessing.com/card.raw\n",
      "Resolving programminginprocessing.com (programminginprocessing.com)... 107.180.25.155\n",
      "Connecting to programminginprocessing.com (programminginprocessing.com)|107.180.25.155|:80... connected.\n",
      "HTTP request sent, awaiting response... 200 OK\n",
      "Length: 2910974 (2.8M)\n",
      "Saving to: ‘card.raw’\n",
      "\n",
      "card.raw            100%[===================>]   2.78M  --.-KB/s    in 0.1s    \n",
      "\n",
      "2024-11-22 20:08:21 (21.6 MB/s) - ‘card.raw’ saved [2910974/2910974]\n",
      "\n"
     ]
    }
   ],
   "source": [
    "!wget 'http://programminginprocessing.com/card.raw' -O card.raw #imports the file in order to read the data from the camera"
   ]
  },
  {
   "cell_type": "code",
   "execution_count": null,
   "metadata": {
    "id": "cL-W8P3Kf6FB"
   },
   "outputs": [
    {
     "name": "stdout",
     "output_type": "stream",
     "text": [
      "[0, 0, 0, 0, 255, 216, 255, 224, 0, 16, 74, 70, 73, 70, 0, 1, 1, 1, 0, 72, 0, 72, 0, 0, 255, 225, 16, 210, 69, 120, 105, 102, 0, 0, 77, 77, 0, 42, 0, 0, 0, 8, 0, 13, 1, 0, 0, 3, 0, 0, 0, 1, 15, 192, 0, 0, 1, 1, 0, 3, 0, 0, 0, 1, 7, 116, 0, 0, 1, 15, 0, 2, 0, 0, 0, 8, 0, 0, 0, 170, 1, 16, 0, 2, 0, 0, 0, 9, 0, 0, 0, 178, 1, 18, 0, 3, 0, 0, 0, 1]\n"
     ]
    }
   ],
   "source": [
    "with open('card.raw', 'rb') as cardFile: # Chance\n",
    "   photoBytes = cardFile.read() # Chance\n",
    "   photoList = list(photoBytes) # TJ\n",
    "   print(photoList[:100]) # TJ & Johang\n",
    "   # print(photoBytes) ~ Testing - Johang\n",
    "   # bytearray(photoBytes) ~ Testing - Johang\n",
    "   # print(type(photoBytes)) ~ Testing - Johang\n",
    "\n",
    "\n",
    "# Looking for\n",
    "\n",
    "# FF D8 FF E0\n",
    "# 255 216 255 224\n",
    "\n",
    "# FF D8 FF E1\n",
    "# 255 216 255 225\n"
   ]
  }
 ],
 "metadata": {
  "colab": {
   "include_colab_link": true,
   "provenance": [],
   "toc_visible": true
  },
  "kernelspec": {
   "display_name": "base",
   "language": "python",
   "name": "python3"
  },
  "language_info": {
   "codemirror_mode": {
    "name": "ipython",
    "version": 3
   },
   "file_extension": ".py",
   "mimetype": "text/x-python",
   "name": "python",
   "nbconvert_exporter": "python",
   "pygments_lexer": "ipython3",
   "version": "3.12.4"
  }
 },
 "nbformat": 4,
 "nbformat_minor": 0
}
