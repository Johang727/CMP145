{
  "cells": [
    {
      "cell_type": "markdown",
      "metadata": {
        "id": "ExfAvyEGMO2e"
      },
      "source": [
        "#IST 145 Chapter 1 Sample Code"
      ]
    },
    {
      "cell_type": "markdown",
      "metadata": {
        "id": "8ep8jkXxM0So"
      },
      "source": [
        "##Session 1.1 Simple integer math"
      ]
    },
    {
      "cell_type": "code",
      "execution_count": null,
      "metadata": {
        "id": "iErAYWYLMEnH"
      },
      "outputs": [],
      "source": [
        "2 + 2"
      ]
    },
    {
      "cell_type": "code",
      "execution_count": null,
      "metadata": {
        "id": "y_KWcpOPM3vH"
      },
      "outputs": [],
      "source": [
        "100 - 75"
      ]
    },
    {
      "cell_type": "code",
      "execution_count": null,
      "metadata": {
        "id": "mGy6UNjEM6LY"
      },
      "outputs": [],
      "source": [
        "7 * 9"
      ]
    },
    {
      "cell_type": "code",
      "execution_count": null,
      "metadata": {
        "id": "qGIzu7eqM9XV"
      },
      "outputs": [],
      "source": [
        "14 // 2"
      ]
    },
    {
      "cell_type": "code",
      "execution_count": null,
      "metadata": {
        "id": "QO_oNNtLM-7Q"
      },
      "outputs": [],
      "source": [
        "15 // 2       # integer division truncates the remainder"
      ]
    },
    {
      "cell_type": "code",
      "execution_count": null,
      "metadata": {
        "id": "j6jLeZ4WNDsV"
      },
      "outputs": [],
      "source": [
        "15 % 2        # to get remainder use modulo operator"
      ]
    },
    {
      "cell_type": "markdown",
      "metadata": {
        "id": "GHCJEcrnNRzG"
      },
      "source": [
        "##Session 1.2 More numeric calculations"
      ]
    },
    {
      "cell_type": "code",
      "execution_count": null,
      "metadata": {
        "id": "BC-rj7NcNHcn"
      },
      "outputs": [],
      "source": [
        "12 * 6 + 2"
      ]
    },
    {
      "cell_type": "code",
      "execution_count": null,
      "metadata": {
        "id": "-amtYp2mNXaJ"
      },
      "outputs": [],
      "source": [
        "2 + 12 * 6"
      ]
    },
    {
      "cell_type": "code",
      "execution_count": null,
      "metadata": {
        "id": "OaE1jqtYNYpb"
      },
      "outputs": [],
      "source": [
        "(2 + 12) * 6"
      ]
    },
    {
      "cell_type": "code",
      "execution_count": null,
      "metadata": {
        "id": "asvzbdUUNahQ"
      },
      "outputs": [],
      "source": [
        "12 * (6 + 2)"
      ]
    },
    {
      "cell_type": "code",
      "execution_count": null,
      "metadata": {
        "id": "VnNpsU1sNcZE"
      },
      "outputs": [],
      "source": [
        "2 ** 3"
      ]
    },
    {
      "cell_type": "markdown",
      "metadata": {
        "id": "CAdUAhQgNgtU"
      },
      "source": [
        "##Session 1.3 Floating-point math"
      ]
    },
    {
      "cell_type": "code",
      "execution_count": null,
      "metadata": {
        "id": "X8bJi9_QNdRq"
      },
      "outputs": [],
      "source": [
        "2.0 + 2.0"
      ]
    },
    {
      "cell_type": "code",
      "execution_count": null,
      "metadata": {
        "id": "yUwFcsTjNkB7"
      },
      "outputs": [],
      "source": [
        "15.3 / 2.5"
      ]
    },
    {
      "cell_type": "code",
      "execution_count": null,
      "metadata": {
        "id": "gmoKE5diNl4o"
      },
      "outputs": [],
      "source": [
        "6.0 * 1.5"
      ]
    },
    {
      "cell_type": "code",
      "execution_count": null,
      "metadata": {
        "id": "0MNyQh16NncO"
      },
      "outputs": [],
      "source": [
        "2.5 ** 25.0"
      ]
    },
    {
      "cell_type": "code",
      "execution_count": null,
      "metadata": {
        "id": "Hhx_E3oHNo6U"
      },
      "outputs": [],
      "source": [
        "2.0 ** 500.0"
      ]
    },
    {
      "cell_type": "code",
      "execution_count": null,
      "metadata": {
        "id": "1-BcH5RINrG9"
      },
      "outputs": [],
      "source": [
        "1.33e+5 + 1.0"
      ]
    },
    {
      "cell_type": "markdown",
      "metadata": {
        "id": "QJi92IsDNwSV"
      },
      "source": [
        "##Session 1.4 The use of integers to obtain very precise answers for large numbers"
      ]
    },
    {
      "cell_type": "code",
      "execution_count": null,
      "metadata": {
        "id": "vmpWwl0BNteS"
      },
      "outputs": [],
      "source": [
        "2 ** 500"
      ]
    },
    {
      "cell_type": "code",
      "execution_count": null,
      "metadata": {
        "id": "-qFgOn_MN2rQ"
      },
      "outputs": [],
      "source": [
        "100000000 * 500     # 100 million * 500"
      ]
    },
    {
      "cell_type": "code",
      "execution_count": null,
      "metadata": {
        "id": "ewaGnCHAN6tS"
      },
      "outputs": [],
      "source": [
        "100_000_000 * 500   #_ can be a separator for large numbers"
      ]
    },
    {
      "cell_type": "markdown",
      "metadata": {
        "id": "vOU_5oOkOIft"
      },
      "source": [
        "##Session 1.5 Mixing integers and floating-point numbers"
      ]
    },
    {
      "cell_type": "code",
      "execution_count": null,
      "metadata": {
        "id": "8RM8u2p3OAtL"
      },
      "outputs": [],
      "source": [
        "100 * 3.4       # mix of integers and floats -> float"
      ]
    },
    {
      "cell_type": "code",
      "execution_count": null,
      "metadata": {
        "id": "wFkLIsCCOQOR"
      },
      "outputs": [],
      "source": [
        "100 + 3.4"
      ]
    },
    {
      "cell_type": "code",
      "execution_count": null,
      "metadata": {
        "id": "_bVDDMaqORz_"
      },
      "outputs": [],
      "source": [
        "100 - 3.4"
      ]
    },
    {
      "cell_type": "code",
      "execution_count": null,
      "metadata": {
        "id": "W27ujcBzOSrO"
      },
      "outputs": [],
      "source": [
        "100 ** 3.4"
      ]
    },
    {
      "cell_type": "code",
      "execution_count": null,
      "metadata": {
        "id": "B4Rly1H0OT8Q"
      },
      "outputs": [],
      "source": [
        "1000 / 10.2     # division is a special case"
      ]
    },
    {
      "cell_type": "code",
      "execution_count": null,
      "metadata": {
        "id": "J952xsM5OXL2"
      },
      "outputs": [],
      "source": [
        "1000 / 10"
      ]
    },
    {
      "cell_type": "code",
      "execution_count": null,
      "metadata": {
        "id": "BBrgC3gnOZUy"
      },
      "outputs": [],
      "source": [
        "1000 // 10.2"
      ]
    },
    {
      "cell_type": "code",
      "execution_count": null,
      "metadata": {
        "id": "FKciQ-icObuV"
      },
      "outputs": [],
      "source": [
        "1000.1 // 10.2"
      ]
    },
    {
      "cell_type": "markdown",
      "metadata": {
        "id": "gT7dVZQPOid-"
      },
      "source": [
        "##Session 1.6 Converting between integers and floating-point numbers"
      ]
    },
    {
      "cell_type": "code",
      "execution_count": null,
      "metadata": {
        "id": "3Ym2PLgcOdgX"
      },
      "outputs": [],
      "source": [
        "float(5)"
      ]
    },
    {
      "cell_type": "code",
      "execution_count": null,
      "metadata": {
        "id": "UlPOSXbhOpDk"
      },
      "outputs": [],
      "source": [
        "int(3.99999)"
      ]
    },
    {
      "cell_type": "code",
      "execution_count": null,
      "metadata": {
        "id": "9bSjB18hOqkC"
      },
      "outputs": [],
      "source": [
        "round(3.99999)"
      ]
    },
    {
      "cell_type": "markdown",
      "metadata": {
        "id": "zVlHymsWQlKE"
      },
      "source": [
        "##Session 1.7 Calculating the volume of a cylinder with assignment statements"
      ]
    },
    {
      "cell_type": "code",
      "execution_count": null,
      "metadata": {
        "id": "-wPUjbidOr0K"
      },
      "outputs": [],
      "source": [
        "pi = 3.14159\n",
        "radius = 8.0\n",
        "height = 16\n",
        "baseArea = pi * radius ** 2\n",
        "baseArea"
      ]
    },
    {
      "cell_type": "code",
      "execution_count": null,
      "metadata": {
        "id": "QJfM94OVQxcl"
      },
      "outputs": [],
      "source": [
        "cylinderVolume = baseArea * height\n",
        "cylinderVolume"
      ]
    },
    {
      "cell_type": "markdown",
      "metadata": {
        "id": "Y5OfSRx5U0Fa"
      },
      "source": [
        "##Session 1.8 Python evaluates assignment statements in sequence"
      ]
    },
    {
      "cell_type": "code",
      "execution_count": null,
      "metadata": {
        "id": "N4a40D5hQ2O6"
      },
      "outputs": [],
      "source": [
        "a = 10\n",
        "b = 20\n",
        "a = b \n",
        "a"
      ]
    },
    {
      "cell_type": "code",
      "execution_count": null,
      "metadata": {
        "id": "06nPXx6cU9Ay"
      },
      "outputs": [],
      "source": [
        "b"
      ]
    },
    {
      "cell_type": "markdown",
      "metadata": {
        "id": "8VAM58GX7Azf"
      },
      "source": [
        "##Session 1.9 Using the `turtle` module"
      ]
    },
    {
      "cell_type": "code",
      "execution_count": 1,
      "metadata": {
        "id": "0uw3-K4V7Q8c"
      },
      "outputs": [
        {
          "name": "stdout",
          "output_type": "stream",
          "text": [
            "Defaulting to user installation because normal site-packages is not writeable\n",
            "Requirement already satisfied: ColabTurtle in /home/johang/.local/lib/python3.10/site-packages (2.1.0)\n"
          ]
        },
        {
          "data": {
            "text/html": [
              "\n",
              "      <svg width=\"800\" height=\"500\">\n",
              "        <rect width=\"100%\" height=\"100%\" fill=\"white\"/>\n",
              "        <line x1=\"400\" y1=\"250\" x2=\"400.0\" y2=\"150.0\" stroke-linecap=\"round\" style=\"stroke:black;stroke-width:4\"/><line x1=\"400.0\" y1=\"150.0\" x2=\"450.0\" y2=\"150.0\" stroke-linecap=\"round\" style=\"stroke:black;stroke-width:4\"/>\n",
              "        <g visibility=visible transform=\"rotate(90,450.0,150.0) translate(432.0, 132.0)\">\n",
              "<path style=\" stroke:none;fill-rule:evenodd;fill:black;fill-opacity:1;\" d=\"M 18.214844 0.632812 C 16.109375 1.800781 15.011719 4.074219 15.074219 7.132812 L 15.085938 7.652344 L 14.785156 7.496094 C 13.476562 6.824219 11.957031 6.671875 10.40625 7.066406 C 8.46875 7.550781 6.515625 9.15625 4.394531 11.992188 C 3.0625 13.777344 2.679688 14.636719 3.042969 15.027344 L 3.15625 15.152344 L 3.519531 15.152344 C 4.238281 15.152344 4.828125 14.886719 8.1875 13.039062 C 9.386719 12.378906 10.371094 11.839844 10.378906 11.839844 C 10.386719 11.839844 10.355469 11.929688 10.304688 12.035156 C 9.832031 13.09375 9.257812 14.820312 8.96875 16.078125 C 7.914062 20.652344 8.617188 24.53125 11.070312 27.660156 C 11.351562 28.015625 11.363281 27.914062 10.972656 28.382812 C 8.925781 30.84375 7.945312 33.28125 8.238281 35.1875 C 8.289062 35.527344 8.28125 35.523438 8.917969 35.523438 C 10.941406 35.523438 13.074219 34.207031 15.136719 31.6875 C 15.359375 31.417969 15.328125 31.425781 15.5625 31.574219 C 16.292969 32.042969 18.023438 32.964844 18.175781 32.964844 C 18.335938 32.964844 19.941406 32.210938 20.828125 31.71875 C 20.996094 31.625 21.136719 31.554688 21.136719 31.558594 C 21.203125 31.664062 21.898438 32.414062 22.222656 32.730469 C 23.835938 34.300781 25.5625 35.132812 27.582031 35.300781 C 27.90625 35.328125 27.9375 35.308594 28.007812 34.984375 C 28.382812 33.242188 27.625 30.925781 25.863281 28.425781 L 25.542969 27.96875 L 25.699219 27.785156 C 28.945312 23.960938 29.132812 18.699219 26.257812 11.96875 L 26.207031 11.84375 L 27.945312 12.703125 C 31.53125 14.476562 32.316406 14.800781 33.03125 14.800781 C 33.976562 14.800781 33.78125 13.9375 32.472656 12.292969 C 28.519531 7.355469 25.394531 5.925781 21.921875 7.472656 L 21.558594 7.636719 L 21.578125 7.542969 C 21.699219 6.992188 21.761719 5.742188 21.699219 5.164062 C 21.496094 3.296875 20.664062 1.964844 19.003906 0.855469 C 18.480469 0.503906 18.457031 0.5 18.214844 0.632812\"/>\n",
              "</g>\n",
              "      </svg>\n",
              "    "
            ],
            "text/plain": [
              "<IPython.core.display.HTML object>"
            ]
          },
          "metadata": {},
          "output_type": "display_data"
        }
      ],
      "source": [
        "# do this *once* in your notebook, before using any turtle commands\n",
        "!pip3 install ColabTurtle\n",
        "\n",
        "# this creates a ColabTurtle object named gertrude\n",
        "import ColabTurtle.Turtle as gertrude\n",
        "\n",
        "# do this instead of calling the turtle.Turtle() constructor;\n",
        "# it erases any drawings and repositions the turtle.\n",
        "# Note the dot to ask an object to perform a method, and parentheses to \n",
        "# indicate that we're calling a method vs. accessing an attribute\n",
        "gertrude.initializeTurtle()\n",
        "\n",
        "# set colors to look like the text\n",
        "gertrude.bgcolor('white')\n",
        "gertrude.color('black')\n",
        "\n",
        "# basic motion is as in the book\n",
        "gertrude.forward(100)\n",
        "gertrude.right(90)\n",
        "gertrude.forward(50)"
      ]
    },
    {
      "cell_type": "code",
      "execution_count": null,
      "metadata": {
        "id": "tLppbqTI77bs"
      },
      "outputs": [],
      "source": [
        "# position info from this attribute instead of a method\n",
        "gertrude.turtle_pos"
      ]
    },
    {
      "cell_type": "code",
      "execution_count": null,
      "metadata": {
        "id": "tYfWjLSB9ZEv"
      },
      "outputs": [],
      "source": [
        "# likewise, heading info from an attribute\n",
        "gertrude.turtle_degree"
      ]
    },
    {
      "cell_type": "markdown",
      "metadata": {
        "id": "KiqhuAZg9pGk"
      },
      "source": [
        "##Listing 1.1 A function to draw a square using a turtle"
      ]
    },
    {
      "cell_type": "code",
      "execution_count": null,
      "metadata": {
        "id": "Wgh5svyg9fiI"
      },
      "outputs": [],
      "source": [
        "def drawSquare(myTurtle, sideLength):\n",
        "  \"\"\"\n",
        "  This function uses turtle graphics to draw a square of a specified size.\n",
        "\n",
        "  parameters\n",
        "  ----------\n",
        "  myTurtle : ColabTurtle.Turtle\n",
        "    The turtle to draw with\n",
        "  sideLength : int\n",
        "    The number of units on each side of the square\n",
        "  \"\"\"\n",
        "  myTurtle.forward(sideLength)      # side 1\n",
        "  myTurtle.right(90)\n",
        "  myTurtle.forward(sideLength)      # side 2\n",
        "  myTurtle.right(90)\n",
        "  myTurtle.forward(sideLength)      # side 3\n",
        "  myTurtle.right(90)\n",
        "  myTurtle.forward(sideLength)      # side 4\n",
        "  myTurtle.right(90)"
      ]
    },
    {
      "cell_type": "markdown",
      "metadata": {
        "id": "8UMMMJFsZFVL"
      },
      "source": [
        "##Session 1.10 A Python session that demonstrates calling a function"
      ]
    },
    {
      "cell_type": "code",
      "execution_count": null,
      "metadata": {
        "id": "BExPC64v-MGN"
      },
      "outputs": [],
      "source": [
        "gertrude.initializeTurtle()   # re-initialize turtle's environment\n",
        "gertrude.bgcolor('white')\n",
        "gertrude.color('black')\n",
        "drawSquare(gertrude, 150)"
      ]
    },
    {
      "cell_type": "markdown",
      "metadata": {
        "id": "3mVsCmSK-cHq"
      },
      "source": [
        "##Listing 1.2 A better version of the `drawSquare` function"
      ]
    },
    {
      "cell_type": "code",
      "execution_count": null,
      "metadata": {
        "id": "PZoVxCRy-VWM"
      },
      "outputs": [],
      "source": [
        "def drawSquare(myTurtle, sideLength):\n",
        "  \"\"\"\n",
        "  This function uses turtle graphics to draw a square of a specified size.\n",
        "\n",
        "  parameters\n",
        "  ----------\n",
        "  myTurtle : ColabTurtle.Turtle\n",
        "    The turtle to draw with\n",
        "  sideLength : int\n",
        "    The number of units on each side of the square\n",
        "  \"\"\"\n",
        "  for i in range(4):\n",
        "    myTurtle.forward(sideLength)\n",
        "    myTurtle.right(90)\n"
      ]
    },
    {
      "cell_type": "code",
      "execution_count": null,
      "metadata": {
        "id": "PGHPaMvt-q5C"
      },
      "outputs": [],
      "source": [
        "gertrude.initializeTurtle()\n",
        "gertrude.bgcolor('white')\n",
        "gertrude.color('black')\n",
        "drawSquare(gertrude, 150)"
      ]
    },
    {
      "cell_type": "markdown",
      "metadata": {
        "id": "CfFj1AUG-3ei"
      },
      "source": [
        "##Listing 1.3 A Python function to draw a spiral"
      ]
    },
    {
      "cell_type": "code",
      "execution_count": null,
      "metadata": {
        "id": "qJeexfcz-u45"
      },
      "outputs": [],
      "source": [
        "def drawSpiral(myTurtle, maxSide):\n",
        "  \"\"\"\n",
        "  This function uses turtle graphics to draw a square spiral shape with some \n",
        "  number of sides\n",
        "\n",
        "  parameters\n",
        "  ----------\n",
        "  myTurtle : ColabTurtle\n",
        "    The turtle to draw with\n",
        "  maxSide : int\n",
        "    Maximum number of sides in the spiral\n",
        "  \"\"\"\n",
        "  for sideLength in range(1, maxSide + 1, 5):\n",
        "    myTurtle.forward(sideLength)\n",
        "    myTurtle.right(90)"
      ]
    },
    {
      "cell_type": "code",
      "execution_count": null,
      "metadata": {
        "id": "NCtFWkxC_K9R"
      },
      "outputs": [],
      "source": [
        "gertrude.initializeTurtle()\n",
        "gertrude.bgcolor('white')\n",
        "gertrude.color('black')\n",
        "gertrude.speed(10)\n",
        "drawSpiral(gertrude, 200)"
      ]
    },
    {
      "cell_type": "markdown",
      "metadata": {
        "id": "Kbi3uowF_ac6"
      },
      "source": [
        "##Listing 1.4 A Python function to draw a triangle"
      ]
    },
    {
      "cell_type": "code",
      "execution_count": null,
      "metadata": {
        "id": "fkNt8Y2K_RPL"
      },
      "outputs": [],
      "source": [
        "def drawTriangle(myTurtle, sideLength):\n",
        "  \"\"\"\n",
        "  This function draws an equilateral triangle with the specified side length\n",
        "\n",
        "  parameters\n",
        "  ----------\n",
        "  myTurtle : ColabTurtle.Turtle\n",
        "    The turtle to draw with\n",
        "  sideLength : int\n",
        "    The length of each side in the triangle\n",
        "  \"\"\"\n",
        "  for i in range(3):\n",
        "    myTurtle.forward(sideLength)\n",
        "    myTurtle.right(120)"
      ]
    },
    {
      "cell_type": "code",
      "execution_count": null,
      "metadata": {
        "id": "A-dRnz1z_nBW"
      },
      "outputs": [],
      "source": [
        "gertrude.initializeTurtle()\n",
        "gertrude.bgcolor('white')\n",
        "gertrude.color('black')\n",
        "drawTriangle(gertrude, 120)"
      ]
    },
    {
      "cell_type": "markdown",
      "metadata": {
        "id": "vUHGbeEA_vo5"
      },
      "source": [
        "##Listing 1.5 A Python function to draw a regular polygon of any size"
      ]
    },
    {
      "cell_type": "code",
      "execution_count": null,
      "metadata": {
        "id": "CkgF-Ggh_r2x"
      },
      "outputs": [],
      "source": [
        "def drawPolygon(myTurtle, sideLength, numSides):\n",
        "  \"\"\"\n",
        "  This function draws a regular polygon with the specified number of sides and \n",
        "  side length.\n",
        "\n",
        "  parameters\n",
        "  ----------\n",
        "  myTurtle : ColabTurtle.Turtle\n",
        "    The turtle to draw with\n",
        "  sideLength : int\n",
        "    The length of each side in the polygon\n",
        "  numSides : int\n",
        "    The number of sides in the polygon\n",
        "  \"\"\"\n",
        "  turnAngle = 360 / numSides\n",
        "  for i in range(numSides):\n",
        "    myTurtle.forward(sideLength)\n",
        "    myTurtle.right(turnAngle)"
      ]
    },
    {
      "cell_type": "markdown",
      "metadata": {
        "id": "1W8voBCGAITJ"
      },
      "source": [
        "##Session 1.11 Testing the `drawPolygon` function"
      ]
    },
    {
      "cell_type": "code",
      "execution_count": null,
      "metadata": {
        "id": "ImsdR93LADGA"
      },
      "outputs": [],
      "source": [
        "gertrude.initializeTurtle()\n",
        "gertrude.bgcolor('white')\n",
        "gertrude.color('black')\n",
        "gertrude.penup()\n",
        "gertrude.backward(200)\n",
        "gertrude.left(90)\n",
        "gertrude.pendown()\n",
        "\n",
        "gertrude.speed(10)\n",
        "\n",
        "drawPolygon(gertrude, 100, 4)\n",
        "drawPolygon(gertrude, 100, 8)\n",
        "drawPolygon(gertrude, 50, 20)\n",
        "drawPolygon(gertrude, 20, 20)"
      ]
    },
    {
      "cell_type": "markdown",
      "metadata": {
        "id": "iqeHvZV5BSTQ"
      },
      "source": [
        "##Listing 1.6 A Python function to draw a circle"
      ]
    },
    {
      "cell_type": "code",
      "execution_count": null,
      "metadata": {
        "id": "7VqC2DEhAy2k"
      },
      "outputs": [],
      "source": [
        "def drawCircle(myTurtle, radius):\n",
        "  \"\"\"\n",
        "  This function draws an approximation of a circle with the given radius.\n",
        "\n",
        "  parameters\n",
        "  ----------\n",
        "  myTurtle : ColabTurtle.Turtle\n",
        "    The turtle to draw with\n",
        "  radius : int\n",
        "    The radius of the circle\n",
        "  \"\"\"\n",
        "  circumference = 2 * 3.14159 * radius\n",
        "  sideLength = int(circumference / 360)\n",
        "  drawPolygon(myTurtle, sideLength, 360)"
      ]
    },
    {
      "cell_type": "markdown",
      "metadata": {
        "id": "gLg_wAFLCbWp"
      },
      "source": [
        "##Session 1.12 Drawing a circle"
      ]
    },
    {
      "cell_type": "code",
      "execution_count": null,
      "metadata": {
        "id": "A4DtneoYBj-Y"
      },
      "outputs": [],
      "source": [
        "gertrude.initializeTurtle()\n",
        "\n",
        "gertrude.bgcolor('white')\n",
        "gertrude.color('black')\n",
        "\n",
        "gertrude.penup()\n",
        "gertrude.left(90)\n",
        "gertrude.forward(200)\n",
        "gertrude.right(90)\n",
        "gertrude.pendown()\n",
        "\n",
        "gertrude.speed(10)\n",
        "\n",
        "drawCircle(gertrude, 100)\n",
        "drawCircle(gertrude, 200)"
      ]
    },
    {
      "cell_type": "code",
      "execution_count": null,
      "metadata": {
        "id": "ZYswjOwdDAOh"
      },
      "outputs": [],
      "source": []
    }
  ],
  "metadata": {
    "colab": {
      "collapsed_sections": [],
      "name": "ist145 module 01 sample code.ipynb",
      "provenance": []
    },
    "kernelspec": {
      "display_name": "Python 3",
      "name": "python3"
    },
    "language_info": {
      "codemirror_mode": {
        "name": "ipython",
        "version": 3
      },
      "file_extension": ".py",
      "mimetype": "text/x-python",
      "name": "python",
      "nbconvert_exporter": "python",
      "pygments_lexer": "ipython3",
      "version": "3.10.12"
    }
  },
  "nbformat": 4,
  "nbformat_minor": 0
}
