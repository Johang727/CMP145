{
 "cells": [
  {
   "cell_type": "code",
   "execution_count": 1,
   "metadata": {},
   "outputs": [],
   "source": [
    "import random"
   ]
  },
  {
   "cell_type": "code",
   "execution_count": 21,
   "metadata": {},
   "outputs": [],
   "source": [
    "class Monster:\n",
    "    def __init__(self, name, hp, maxDmg):\n",
    "        self.__name = name\n",
    "        self.__hp = hp\n",
    "        self.__maxDMG = maxDmg\n",
    "    \n",
    "    def isAlive(self):\n",
    "        if self.__hp > 0:\n",
    "            return True\n",
    "        else:\n",
    "            return False\n",
    "    \n",
    "    def applyDamage(self, damage):\n",
    "        self.__hp -= damage\n",
    "\n",
    "    def doAttack(self):\n",
    "        return random.randint(0,self.__maxDMG)\n",
    "    \n",
    "    def __str__(self):\n",
    "        if self.isAlive():\n",
    "            return f\"Monster {self.__name} has {self.__hp} hitpoints\"\n",
    "        else:\n",
    "            return f\"Monster {self.__name} has {self.__hp} hitpoints (DEAD!)\"\n",
    "\n"
   ]
  },
  {
   "cell_type": "code",
   "execution_count": 27,
   "metadata": {},
   "outputs": [
    {
     "name": "stdout",
     "output_type": "stream",
     "text": [
      "Monster Skeleton has 14 hitpoints\n",
      "Monster Skeleton has -85 hitpoints (DEAD!)\n"
     ]
    }
   ],
   "source": [
    "skelly = Monster(\"Skeleton\", 14, 2)\n",
    "\n",
    "print(skelly)\n",
    "\n",
    "skelly.applyDamage(99)\n",
    "\n",
    "print(skelly)\n",
    "\n"
   ]
  }
 ],
 "metadata": {
  "kernelspec": {
   "display_name": "base",
   "language": "python",
   "name": "python3"
  },
  "language_info": {
   "codemirror_mode": {
    "name": "ipython",
    "version": 3
   },
   "file_extension": ".py",
   "mimetype": "text/x-python",
   "name": "python",
   "nbconvert_exporter": "python",
   "pygments_lexer": "ipython3",
   "version": "3.12.4"
  }
 },
 "nbformat": 4,
 "nbformat_minor": 2
}
