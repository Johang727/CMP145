{
 "cells": [
  {
   "cell_type": "markdown",
   "metadata": {
    "id": "hGtXz_YOuOtT"
   },
   "source": [
    "# HOA 8.1\n",
    "\n",
    "In this set of activities, we will develop a class that represents a single playing card from a deck of cards."
   ]
  },
  {
   "cell_type": "markdown",
   "metadata": {
    "id": "qFr9K1f6ucxf"
   },
   "source": [
    "___\n",
    "\n",
    "## 1. Here's Your Card\n",
    "\n",
    "For our purposes, a playing card has two attributes: its suit (spades, hearts, diamonds, or clubs) and its rank (2, 3, 4, ..., 9, 10, Jack, Queen, King, or Ace). "
   ]
  },
  {
   "cell_type": "markdown",
   "metadata": {
    "id": "-AEqTZWfwiVc"
   },
   "source": [
    "___\n",
    "\n",
    "### 1.1 Construct It\n",
    "\n",
    "A `Card` class has been started in the cell below. Complete the constructor method so that the attributes of the class are private."
   ]
  },
  {
   "cell_type": "code",
   "execution_count": 10,
   "metadata": {
    "id": "449Zfv2Dt_ox"
   },
   "outputs": [],
   "source": [
    "class Card:\n",
    "  \"\"\"\n",
    "  A class representing a single card in a deck of playing cards.\n",
    "\n",
    "  Attributes\n",
    "  ----------\n",
    "  __suit : int\n",
    "    One of [0, 1, 2, 3], where 0 is clubs, 1 is diamonds, 2 is hearts, and 3\n",
    "    is spades\n",
    "  __rank : int\n",
    "    One of [2, 3, 4, ..., 9, 10, 11, 12, 13, 14], where 11 means a Jack, 12 means\n",
    "    a Queen, 13 a King, and 14 an Ace\n",
    "  \"\"\"\n",
    "\n",
    "  def __init__(self, suit, rank):\n",
    "    self.__suit = suit\n",
    "    self.__rank = rank"
   ]
  },
  {
   "cell_type": "markdown",
   "metadata": {
    "id": "dabMStl_wsPy"
   },
   "source": [
    "___\n",
    "\n",
    "### 1.2 Access / Mutate It\n",
    "\n",
    "Now, add accessors and mutators to the `Card` class. Specifically, copy the class definition from the previous cell to the one below, and add the following four methods:\n",
    "\n",
    "* `getSuit()`\n",
    "* `setSuit()`\n",
    "* `getRank()`\n",
    "* `setRank()`\n",
    "\n",
    "*Bonus:* use `if` statements in the mutators to ensure that the new values for the suit and / or rank are valid."
   ]
  },
  {
   "cell_type": "code",
   "execution_count": 11,
   "metadata": {
    "id": "_I6vOnKZxa0A"
   },
   "outputs": [],
   "source": [
    "# TODO: Copy the Card class above and paste here, then add accessors and mutators\n",
    "class Card:\n",
    "  \"\"\"\n",
    "  A class representing a single card in a deck of playing cards.\n",
    "\n",
    "  Attributes\n",
    "  ----------\n",
    "  __suit : int\n",
    "    One of [0, 1, 2, 3], where 0 is clubs, 1 is diamonds, 2 is hearts, and 3\n",
    "    is spades\n",
    "  __rank : int\n",
    "    One of [2, 3, 4, ..., 9, 10, 11, 12, 13, 14], where 11 means a Jack, 12 means\n",
    "    a Queen, 13 a King, and 14 an Ace\n",
    "  \"\"\"\n",
    "\n",
    "  def __init__(self, suit, rank):\n",
    "    self.__suit = suit\n",
    "    self.__rank = rank\n",
    "\n",
    "  def getSuit(self):\n",
    "    return self.__suit\n",
    "  \n",
    "  def setSuit(self, suit):\n",
    "    if suit in \"0123\":\n",
    "      self.__suit = suit\n",
    "\n",
    "  def getRank(self):\n",
    "    return self.__rank\n",
    "\n",
    "  def setRank(self, rank):\n",
    "    if 1< rank < 15:\n",
    "      self.__rank = rank"
   ]
  },
  {
   "cell_type": "markdown",
   "metadata": {
    "id": "2VoJWpPKyPml"
   },
   "source": [
    "___\n",
    "\n",
    "### 1.3 Compare It\n",
    "\n",
    "Now, add two special methods to the `Card` class. Copy the latest version of the class from the previous cell to the one below, and add the following special methods:\n",
    "\n",
    "* `__eq__`\n",
    "* `__lt__`\n",
    "* `__str__`\n",
    "\n",
    "For the comparison methods, compare rank first: two is the lowest card, while Ace is the highest. If the ranks are equal, compare suits. The suits from lowest to highest are clubs, diamonds, hearts, and spades.\n",
    "\n",
    "For the `__str__` method, return a string with human-readable information about the card. E.g., if `__suit` is 3 and `__rank` is 13, `__str__` might return `'King of Spades'`."
   ]
  },
  {
   "cell_type": "code",
   "execution_count": 12,
   "metadata": {
    "id": "q2NUGh-c0w5_"
   },
   "outputs": [],
   "source": [
    "# TODO: Copy the Card class above and paste here, then add __eq__, __lt__, and __str__\n",
    "# TODO: Copy the Card class above and paste here, then add accessors and mutators\n",
    "class Card:\n",
    "  \"\"\"\n",
    "  A class representing a single card in a deck of playing cards.\n",
    "\n",
    "  Attributes\n",
    "  ----------\n",
    "  __suit : int\n",
    "    One of [0, 1, 2, 3], where 0 is clubs, 1 is diamonds, 2 is hearts, and 3\n",
    "    is spades\n",
    "  __rank : int\n",
    "    One of [2, 3, 4, ..., 9, 10, 11, 12, 13, 14], where 11 means a Jack, 12 means\n",
    "    a Queen, 13 a King, and 14 an Ace\n",
    "  \"\"\"\n",
    "\n",
    "  def __init__(self, suit, rank):\n",
    "    self.__suit = suit\n",
    "    self.__rank = rank\n",
    "\n",
    "  def getSuit(self):\n",
    "    return self.__suit\n",
    "  \n",
    "  def setSuit(self, suit):\n",
    "    if suit in \"0123\":\n",
    "      self.__suit = suit\n",
    "\n",
    "  def getRank(self):\n",
    "    return self.__rank\n",
    "\n",
    "  def setRank(self, rank):\n",
    "    if 1< rank < 15:\n",
    "      self.__rank = rank\n",
    "\n",
    "  def __eq__(self, other):\n",
    "    if self.__rank == other.__rank:\n",
    "      if self.__suit == other.__suit:\n",
    "        return True\n",
    "      else: return False\n",
    "    else: return False\n",
    "  \n",
    "  def __lt__(self, other):\n",
    "    if self.__rank == other.__rank:\n",
    "      if self.__suit < other.__suit:\n",
    "        return True\n",
    "      else: \n",
    "        return False\n",
    "    else: \n",
    "      return self.__rank < other.__rank\n",
    "  \n",
    "  def __str__(self):\n",
    "    rankDict = {1: \"1\", 2:\"2\", 3:\"3\", 4:\"4\", 5:\"5\", 6:\"6\", 7:\"7\", 8:\"8\", 9:\"9\", 10:\"10\", 11:\"Jack\", 12:\"Queen\", 13:\"King\", 14:\"Ace\"}\n",
    "    suitDict = {0:\"Club\", 1:\"Diamonds\", 2:\"Hearts\", 3:\"Spades\"}\n",
    "    return f\"{rankDict[self.__rank]} of {suitDict[self.__suit]}\""
   ]
  },
  {
   "cell_type": "markdown",
   "metadata": {
    "id": "ylBqttnN1rju"
   },
   "source": [
    "___\n",
    "\n",
    "### 1.4 Test It\n",
    "\n",
    "Now, execute the cell below to test your `Card` class. If your code is correct, you should see the following:\n",
    "\n",
    "```\n",
    "2 of Clubs\n",
    "2 of Diamonds\n",
    "2 of Hearts\n",
    "2 of Spades\n",
    "3 of Clubs\n",
    "3 of Diamonds\n",
    "3 of Hearts\n",
    "3 of Spades\n",
    "4 of Clubs\n",
    "4 of Diamonds\n",
    "4 of Hearts\n",
    "4 of Spades\n",
    "5 of Clubs\n",
    "5 of Diamonds\n",
    "5 of Hearts\n",
    "5 of Spades\n",
    "6 of Clubs\n",
    "6 of Diamonds\n",
    "6 of Hearts\n",
    "6 of Spades\n",
    "7 of Clubs\n",
    "7 of Diamonds\n",
    "7 of Hearts\n",
    "7 of Spades\n",
    "8 of Clubs\n",
    "8 of Diamonds\n",
    "8 of Hearts\n",
    "8 of Spades\n",
    "9 of Clubs\n",
    "9 of Diamonds\n",
    "9 of Hearts\n",
    "9 of Spades\n",
    "10 of Clubs\n",
    "10 of Diamonds\n",
    "10 of Hearts\n",
    "10 of Spades\n",
    "Jack of Clubs\n",
    "Jack of Diamonds\n",
    "Jack of Hearts\n",
    "Jack of Spades\n",
    "Queen of Clubs\n",
    "Queen of Diamonds\n",
    "Queen of Hearts\n",
    "Queen of Spades\n",
    "King of Clubs\n",
    "King of Diamonds\n",
    "King of Hearts\n",
    "King of Spades\n",
    "Ace of Clubs\n",
    "Ace of Diamonds\n",
    "Ace of Hearts\n",
    "Ace of Spades\n",
    "```"
   ]
  },
  {
   "cell_type": "code",
   "execution_count": 13,
   "metadata": {
    "id": "Lsod822211ao"
   },
   "outputs": [
    {
     "name": "stdout",
     "output_type": "stream",
     "text": [
      "2 of Club\n",
      "2 of Diamonds\n",
      "2 of Hearts\n",
      "2 of Spades\n",
      "3 of Club\n",
      "3 of Diamonds\n",
      "3 of Hearts\n",
      "3 of Spades\n",
      "4 of Club\n",
      "4 of Diamonds\n",
      "4 of Hearts\n",
      "4 of Spades\n",
      "5 of Club\n",
      "5 of Diamonds\n",
      "5 of Hearts\n",
      "5 of Spades\n",
      "6 of Club\n",
      "6 of Diamonds\n",
      "6 of Hearts\n",
      "6 of Spades\n",
      "7 of Club\n",
      "7 of Diamonds\n",
      "7 of Hearts\n",
      "7 of Spades\n",
      "8 of Club\n",
      "8 of Diamonds\n",
      "8 of Hearts\n",
      "8 of Spades\n",
      "9 of Club\n",
      "9 of Diamonds\n",
      "9 of Hearts\n",
      "9 of Spades\n",
      "10 of Club\n",
      "10 of Diamonds\n",
      "10 of Hearts\n",
      "10 of Spades\n",
      "Jack of Club\n",
      "Jack of Diamonds\n",
      "Jack of Hearts\n",
      "Jack of Spades\n",
      "Queen of Club\n",
      "Queen of Diamonds\n",
      "Queen of Hearts\n",
      "Queen of Spades\n",
      "King of Club\n",
      "King of Diamonds\n",
      "King of Hearts\n",
      "King of Spades\n",
      "Ace of Club\n",
      "Ace of Diamonds\n",
      "Ace of Hearts\n",
      "Ace of Spades\n"
     ]
    }
   ],
   "source": [
    "# make a list of all the cards in a standard deck\n",
    "deck = []\n",
    "for suit in range(4):\n",
    "  for rank in range(2, 15):\n",
    "    deck.append(Card(suit, rank))\n",
    "\n",
    "# shuffle the cards\n",
    "import random\n",
    "random.shuffle(deck)\n",
    "\n",
    "# sort the cards - this is possible because we defined __lt__ and __eq__\n",
    "deck.sort()\n",
    "\n",
    "# print the cards out - this is possible because we defined __str__\n",
    "for card in deck:\n",
    "  print(card)"
   ]
  }
 ],
 "metadata": {
  "colab": {
   "collapsed_sections": [],
   "name": "Copy of ist145 HOA 8.1.ipynb",
   "provenance": []
  },
  "kernelspec": {
   "display_name": "base",
   "language": "python",
   "name": "python3"
  },
  "language_info": {
   "codemirror_mode": {
    "name": "ipython",
    "version": 3
   },
   "file_extension": ".py",
   "mimetype": "text/x-python",
   "name": "python",
   "nbconvert_exporter": "python",
   "pygments_lexer": "ipython3",
   "version": "3.12.4"
  }
 },
 "nbformat": 4,
 "nbformat_minor": 0
}
